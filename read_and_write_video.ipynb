{
 "cells": [
  {
   "cell_type": "code",
   "execution_count": 1,
   "metadata": {},
   "outputs": [],
   "source": [
    "import numpy as np\n",
    "import cv2\n",
    "import os\n",
    "import glob\n",
    "import matplotlib.pyplot as plt\n",
    "from VideoReader import VideoReader"
   ]
  },
  {
   "cell_type": "markdown",
   "metadata": {},
   "source": [
    "### This snippet shows how to read a bunch of videos from a folder and write a movie that stitches them together"
   ]
  },
  {
   "cell_type": "code",
   "execution_count": 2,
   "metadata": {},
   "outputs": [
    {
     "data": {
      "text/plain": [
       "[['/Users/vivekhsridhar/Downloads/20230309_SM_Lek1_P2D4_DJI_0782_plotted_20230517-201752.mp4']]"
      ]
     },
     "execution_count": 2,
     "metadata": {},
     "output_type": "execute_result"
    }
   ],
   "source": [
    "videos = sorted([glob.glob(\"/Users/vivekhsridhar/Downloads/20230309_SM_Lek1_P2D4_DJI_0782_plotted_20230517-201752.mp4\")])\n",
    "videos"
   ]
  },
  {
   "cell_type": "code",
   "execution_count": 3,
   "metadata": {},
   "outputs": [
    {
     "data": {
      "text/plain": [
       "-1"
      ]
     },
     "execution_count": 3,
     "metadata": {},
     "output_type": "execute_result"
    }
   ],
   "source": [
    "fourcc = cv2.VideoWriter_fourcc(*'avc1')\n",
    "out = cv2.VideoWriter(filename = 'lek-tracking.mp4', fourcc = fourcc, fps = 60.0, frameSize = (2189, 1231), isColor = True)\n",
    "    \n",
    "for video in videos[0]:\n",
    "    cap = VideoReader(video, queue_size=1)\n",
    "    cap.start()\n",
    "    \n",
    "    last = this = 0\n",
    "    while(True):\n",
    "        # Capture frame-by-frame\n",
    "        frame = cap.read()\n",
    "        \n",
    "        this = cap.stream.get(1)\n",
    "        frame = cv2.resize(frame, None, fx = 0.5, fy = 0.5, interpolation = cv2.INTER_LINEAR)\n",
    "        \n",
    "        out.write(frame)\n",
    "        cv2.imshow('frame', frame)\n",
    "        \n",
    "        if this%2000 == 0:\n",
    "            print(this)\n",
    "\n",
    "        if cv2.waitKey(1) == 27 or not cap.more():\n",
    "            break\n",
    "            \n",
    "# When everything done, release the capture\n",
    "out.release()\n",
    "cv2.destroyAllWindows()\n",
    "cv2.waitKey(1)"
   ]
  },
  {
   "cell_type": "code",
   "execution_count": 2,
   "metadata": {},
   "outputs": [
    {
     "data": {
      "text/plain": [
       "[['/Volumes/SSD4/PR Videos/DJI_0362.MP4']]"
      ]
     },
     "execution_count": 2,
     "metadata": {},
     "output_type": "execute_result"
    }
   ],
   "source": [
    "videos = sorted([glob.glob(\"/Volumes/SSD4/PR Videos/DJI_0362.MP4\")])\n",
    "videos"
   ]
  },
  {
   "cell_type": "code",
   "execution_count": 4,
   "metadata": {},
   "outputs": [
    {
     "data": {
      "text/plain": [
       "-1"
      ]
     },
     "execution_count": 4,
     "metadata": {},
     "output_type": "execute_result"
    }
   ],
   "source": [
    "fourcc = cv2.VideoWriter_fourcc(*'avc1')\n",
    "out = cv2.VideoWriter(filename = 'lek_helix.mp4', fourcc = fourcc, fps = 30.0, frameSize = (1920, 1080), isColor = True)\n",
    "\n",
    "for video in videos[0]:\n",
    "    cap = cv2.VideoCapture(video)\n",
    "#     cap.set(cv2.CAP_PROP_POS_FRAMES,150)\n",
    "    \n",
    "    last = this = 0\n",
    "    while(True):\n",
    "        # Capture frame-by-frame\n",
    "        ret, frame = cap.read()\n",
    "\n",
    "        this = cap.get(1)\n",
    "        if ret == True:\n",
    "            out.write(frame)\n",
    "            cv2.imshow('frame', frame)\n",
    "            if cv2.waitKey(1) == 27:\n",
    "                break\n",
    "\n",
    "        if this%1000 == 0:\n",
    "            print(this)\n",
    "            \n",
    "        if last == this:\n",
    "            break\n",
    "\n",
    "        last = this\n",
    "\n",
    "# When everything done, release the capture\n",
    "cap.release()\n",
    "out.release()\n",
    "cv2.destroyAllWindows()\n",
    "cv2.waitKey(1)"
   ]
  },
  {
   "cell_type": "markdown",
   "metadata": {
    "collapsed": true
   },
   "source": [
    "### This snippet reads all videos in a folder, and outputs corresponding videos with the same name in another folder"
   ]
  },
  {
   "cell_type": "code",
   "execution_count": 3,
   "metadata": {},
   "outputs": [],
   "source": [
    "input_videos = sorted([glob.glob(\"/Volumes/T7/Work/Data/BlackbuckAnnotations/registration_annotations/full_resolution/*.MP4\")])"
   ]
  },
  {
   "cell_type": "code",
   "execution_count": 4,
   "metadata": {},
   "outputs": [
    {
     "name": "stdout",
     "output_type": "stream",
     "text": [
      "Video /Volumes/T7/Work/Data/BlackbuckAnnotations/registration_annotations/full_resolution/20230303_SE_Lek1_P2D3_DJI_0949.MP4 processed and saved as /Volumes/T7/Work/Data/BlackbuckAnnotations/registration_annotations/downsampled/20230303_SE_Lek1_P2D3_DJI_0949.MP4\n",
      "20230303_SE_Lek1_P2D3_DJI_0949.MP4\n",
      "Video /Volumes/T7/Work/Data/BlackbuckAnnotations/registration_annotations/full_resolution/20230306_SM_Lek1_P2D3_DJI_0013.MP4 processed and saved as /Volumes/T7/Work/Data/BlackbuckAnnotations/registration_annotations/downsampled/20230306_SM_Lek1_P2D3_DJI_0013.MP4\n",
      "20230306_SM_Lek1_P2D3_DJI_0013.MP4\n",
      "Video /Volumes/T7/Work/Data/BlackbuckAnnotations/registration_annotations/full_resolution/20230308_SE_Lek1_P2D4_DJI_0766.MP4 processed and saved as /Volumes/T7/Work/Data/BlackbuckAnnotations/registration_annotations/downsampled/20230308_SE_Lek1_P2D4_DJI_0766.MP4\n",
      "20230308_SE_Lek1_P2D4_DJI_0766.MP4\n",
      "Video /Volumes/T7/Work/Data/BlackbuckAnnotations/registration_annotations/full_resolution/20230309_SM_Lek1_P2D4_DJI_0782.MP4 processed and saved as /Volumes/T7/Work/Data/BlackbuckAnnotations/registration_annotations/downsampled/20230309_SM_Lek1_P2D4_DJI_0782.MP4\n",
      "20230309_SM_Lek1_P2D4_DJI_0782.MP4\n",
      "Video /Volumes/T7/Work/Data/BlackbuckAnnotations/registration_annotations/full_resolution/20230312_SM_Lek1_P2D3_DJI_0268.MP4 processed and saved as /Volumes/T7/Work/Data/BlackbuckAnnotations/registration_annotations/downsampled/20230312_SM_Lek1_P2D3_DJI_0268.MP4\n",
      "20230312_SM_Lek1_P2D3_DJI_0268.MP4\n",
      "Video /Volumes/T7/Work/Data/BlackbuckAnnotations/registration_annotations/full_resolution/20230314_SE_Lek1_P2D4_DJI_0982.MP4 processed and saved as /Volumes/T7/Work/Data/BlackbuckAnnotations/registration_annotations/downsampled/20230314_SE_Lek1_P2D4_DJI_0982.MP4\n",
      "20230314_SE_Lek1_P2D4_DJI_0982.MP4\n",
      "Video /Volumes/T7/Work/Data/BlackbuckAnnotations/registration_annotations/full_resolution/20230316_SE_Lek1_P2D4_DJI_0020.MP4 processed and saved as /Volumes/T7/Work/Data/BlackbuckAnnotations/registration_annotations/downsampled/20230316_SE_Lek1_P2D4_DJI_0020.MP4\n",
      "20230316_SE_Lek1_P2D4_DJI_0020.MP4\n",
      "Video /Volumes/T7/Work/Data/BlackbuckAnnotations/registration_annotations/full_resolution/20230318_SM_Lek1_P2D4_DJI_0046.MP4 processed and saved as /Volumes/T7/Work/Data/BlackbuckAnnotations/registration_annotations/downsampled/20230318_SM_Lek1_P2D4_DJI_0046.MP4\n",
      "20230318_SM_Lek1_P2D4_DJI_0046.MP4\n"
     ]
    }
   ],
   "source": [
    "# List of input videos\n",
    "input_videos = input_videos[0]\n",
    "\n",
    "# Output directory for processed videos\n",
    "output_directory = '/Volumes/T7/Work/Data/BlackbuckAnnotations/registration_annotations/downsampled/'\n",
    "\n",
    "# Create the output directory if it doesn't exist\n",
    "os.makedirs(output_directory, exist_ok=True)\n",
    "\n",
    "# Codec for video encoding\n",
    "fourcc = cv2.VideoWriter_fourcc(*'avc1')\n",
    "\n",
    "# Process each input video\n",
    "for video in input_videos:\n",
    "    # Open the input video file\n",
    "    cap = cv2.VideoCapture(video)\n",
    "\n",
    "    # Get input video properties\n",
    "    fps = cap.get(cv2.CAP_PROP_FPS)\n",
    "    width = int(cap.get(cv2.CAP_PROP_FRAME_WIDTH))\n",
    "    height = int(cap.get(cv2.CAP_PROP_FRAME_HEIGHT))\n",
    "\n",
    "    # Calculate the output video size (half of input size)\n",
    "    output_width = width // 2\n",
    "    output_height = height // 2\n",
    "\n",
    "    # Create the output video file\n",
    "    output_filename = os.path.join(output_directory, f'{video[-34:]}')\n",
    "    out = cv2.VideoWriter(output_filename, fourcc, fps, (output_width, output_height), True)\n",
    "\n",
    "    # Process each frame in the input video\n",
    "    while True:\n",
    "        # Read a frame from the input video\n",
    "        ret, frame = cap.read()\n",
    "\n",
    "        # If the frame was not read successfully, exit the loop\n",
    "        if not ret:\n",
    "            break\n",
    "\n",
    "        # Resize the frame to half its size\n",
    "        resized_frame = cv2.resize(frame, (output_width, output_height), interpolation=cv2.INTER_LINEAR)\n",
    "\n",
    "        # Write the resized frame to the output video\n",
    "        out.write(resized_frame)\n",
    "\n",
    "        # Display the resized frame (optional)\n",
    "        cv2.imshow('Resized Frame', resized_frame)\n",
    "        if cv2.waitKey(1) == 27:  # Esc key to exit\n",
    "            break\n",
    "    \n",
    "    # Release resources\n",
    "    cap.release()\n",
    "    out.release()\n",
    "    cv2.destroyAllWindows()\n",
    "    cv2.waitKey(1)\n",
    "\n",
    "    print(f'Video {video} processed and saved as {output_filename}')"
   ]
  },
  {
   "cell_type": "code",
   "execution_count": null,
   "metadata": {},
   "outputs": [],
   "source": []
  }
 ],
 "metadata": {
  "kernelspec": {
   "display_name": "Python 3 (ipykernel)",
   "language": "python",
   "name": "python3"
  },
  "language_info": {
   "codemirror_mode": {
    "name": "ipython",
    "version": 3
   },
   "file_extension": ".py",
   "mimetype": "text/x-python",
   "name": "python",
   "nbconvert_exporter": "python",
   "pygments_lexer": "ipython3",
   "version": "3.8.15"
  }
 },
 "nbformat": 4,
 "nbformat_minor": 2
}
